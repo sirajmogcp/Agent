{
  "cells": [
    {
      "cell_type": "markdown",
      "id": "ArTYEXF1cE32",
      "metadata": {
        "id": "ArTYEXF1cE32"
      },
      "source": [
        "# OneTwo and Vertex AI Reasoning Engine Demo"
      ]
    },
    {
      "cell_type": "markdown",
      "id": "fnIhh6tZXr9k",
      "metadata": {
        "id": "fnIhh6tZXr9k"
      },
      "source": [
        "**Step 1: Setting Up Your Environment**\n"
      ]
    },
    {
      "cell_type": "code",
      "execution_count": null,
      "id": "zlAroAXNTZt7AUAfaA2G3i87",
      "metadata": {
        "colab": {
          "base_uri": "https://localhost:8080/"
        },
        "collapsed": true,
        "executionInfo": {
          "elapsed": 23713,
          "status": "ok",
          "timestamp": 1725308085034,
          "user": {
            "displayName": "",
            "userId": ""
          },
          "user_tz": 300
        },
        "id": "zlAroAXNTZt7AUAfaA2G3i87",
        "outputId": "c77f3067-424f-4963-e9cd-b283b576b9b1",
        "tags": []
      },
      "outputs": [],
      "source": [
        "!pip install git+https://github.com/google-deepmind/onetwo\n"
      ]
    },
    {
      "cell_type": "markdown",
      "id": "X3XUnzfgX1cq",
      "metadata": {
        "id": "X3XUnzfgX1cq"
      },
      "source": [
        "**Setup tools**"
      ]
    },
    {
      "cell_type": "code",
      "execution_count": null,
      "id": "v-T_Ixi7YBAq",
      "metadata": {
        "id": "v-T_Ixi7YBAq"
      },
      "outputs": [],
      "source": [
        "import requests\n",
        "\n",
        "def get_exchange_rate(\n",
        "   currency_from: str = \"USD\",\n",
        "   currency_to: str = \"EUR\",\n",
        "   currency_date: str = \"latest\",\n",
        "):\n",
        "   \"\"\"Retrieves the exchange rate between two currencies on a specified date.\n",
        "   Uses the Frankfurter API (https://api.frankfurter.app/) to obtain exchange rate data.\n",
        "   Args:\n",
        "       currency_from: The base currency (3-letter currency code). Defaults to \"USD\" (US Dollar).\n",
        "       currency_to: The target currency (3-letter currency code). Defaults to \"EUR\" (Euro).\n",
        "       currency_date: The date for which to retrieve the exchange rate. Defaults to \"latest\" for the most recent exchange rate data. Can be specified in YYYY-MM-DD format for historical rates.\n",
        "   Returns:\n",
        "       dict: A dictionary containing the exchange rate information.\n",
        "            Example: {\"amount\": 1.0, \"base\": \"USD\", \"date\": \"2023-11-24\", \"rates\": {\"EUR\": 0.95534}}\n",
        "   \"\"\"\n",
        "   response = requests.get(\n",
        "       f\"https://api.frankfurter.app/{currency_date}\",\n",
        "       params={\"from\": currency_from, \"to\": currency_to},\n",
        "   )\n",
        "   return response.json()\n",
        "\n",
        "\n"
      ]
    },
    {
      "cell_type": "markdown",
      "id": "MswWPezlYI0c",
      "metadata": {
        "id": "MswWPezlYI0c"
      },
      "source": [
        "**Use this python function as a tool we need the following declaration:**"
      ]
    },
    {
      "cell_type": "code",
      "execution_count": null,
      "id": "WlLi5X9VYQuH",
      "metadata": {
        "id": "WlLi5X9VYQuH"
      },
      "outputs": [],
      "source": [
        "from onetwo.stdlib.tool_use import llm_tool_use\n",
        "exchange_rate_tool = llm_tool_use.Tool(\n",
        "   name='get_exchange_rate',\n",
        "   function=get_exchange_rate,\n",
        "   ##example=EXAMPLES,\n",
        ")\n",
        "\n",
        "## Finish Tool\n",
        "finish_tool = llm_tool_use.Tool(\n",
        "   name='Finish',\n",
        "   function=lambda x: x,\n",
        "   description='Function for returning the final answer.',\n",
        ")"
      ]
    },
    {
      "cell_type": "markdown",
      "id": "sHfAKdKqYosW",
      "metadata": {
        "id": "sHfAKdKqYosW"
      },
      "source": [
        "**Step 2: Creating the OneTwo Agent with templates**"
      ]
    },
    {
      "cell_type": "code",
      "execution_count": null,
      "id": "_t0FBOD9YTGk",
      "metadata": {
        "id": "_t0FBOD9YTGk"
      },
      "outputs": [],
      "source": [
        "from typing import Callable, Sequence\n",
        "from onetwo.agents.react import ReActStep, ReActState\n",
        "\n",
        "REACT_FEWSHOTS_EXCHANGE = [\n",
        "   ReActState(\n",
        "       inputs=\"What's the exchange rate from US dollars to British currency today??\",\n",
        "       updates=[\n",
        "           ReActStep(\n",
        "               thought=(\n",
        "                   'The user wants to know the exchange rate between USD and GBP today'\n",
        "               ),\n",
        "               action=llm_tool_use.FunctionCall(\n",
        "                   function_name='get_exchange_rate',\n",
        "                   args=('USD','GBP','latest'),\n",
        "                   kwargs={},\n",
        "               ),\n",
        "               observation='{\"amount\": 1.0, \"base\": \"USD\", \"date\": \"2023-11-24\", \"rates\": {\"GBP\": 0.95534}}',\n",
        "               fmt=llm_tool_use.ArgumentFormat.JSON,\n",
        "           ),\n",
        "           ReActStep(\n",
        "               is_finished=True,\n",
        "               thought='The API response contains the exchange rate for today. The user should be informed about the current exchange rate. Extract the rate for GBP from the rates dictionary',\n",
        "               action=llm_tool_use.FunctionCall(\n",
        "                   function_name='Finish', args=('The exchange rate from USD to GBP today (2024-07-01) is 1 USD = 0.95534 GBP',), kwargs={}\n",
        "               ),\n",
        "               observation='The exchange rate from USD to GBP today (2024-07-01) is 1 USD = 0.95534 GBP',\n",
        "               fmt=llm_tool_use.ArgumentFormat.PYTHON,\n",
        "           ),\n",
        "       ],\n",
        "   ),\n",
        "]"
      ]
    },
    {
      "cell_type": "code",
      "execution_count": null,
      "id": "0KQpa3drYgTo",
      "metadata": {
        "id": "0KQpa3drYgTo"
      },
      "outputs": [],
      "source": [
        "class OneTwoAgent:\n",
        "   def __init__(\n",
        "           self,\n",
        "           model: str,\n",
        "           tools: Sequence[Callable],\n",
        "           project: str,\n",
        "           location: str,\n",
        "       ):\n",
        "       self.model_name = model\n",
        "       self.tools = tools\n",
        "       self.project = project\n",
        "       self.location = location\n",
        "   def set_up(self):\n",
        "       \"\"\"All unpickle-able logic should go here.\n",
        "       The .set_up() method should not be called for an object that is being\n",
        "       prepared for deployment.\n",
        "       \"\"\"\n",
        "       import vertexai\n",
        "       import os\n",
        "       from onetwo.backends import vertexai_api\n",
        "       from onetwo import ot\n",
        "       from onetwo.builtins import llm\n",
        "       from onetwo.agents import react\n",
        "       from onetwo.stdlib.tool_use import llm_tool_use\n",
        "       from onetwo.stdlib.tool_use import python_tool_use\n",
        "       backend = vertexai_api.VertexAIAPI(generate_model_name=self.model_name)\n",
        "       backend.register()\n",
        "\n",
        "       self.react_agent = react.ReActAgent(\n",
        "            exemplars=REACT_FEWSHOTS_EXCHANGE,\n",
        "            environment_config=python_tool_use.PythonToolUseEnvironmentConfig(\n",
        "            tools=self.tools,\n",
        "           ),\n",
        "           ##max_steps=20,\n",
        "           ##stop_prefix=''\n",
        "       )\n",
        "\n",
        "   def query(self, input: str):\n",
        "      \"\"\"Query the application.\n",
        "      Args:\n",
        "          input: The user prompt.\n",
        "      Returns:\n",
        "          The output of querying the application with the given input.\n",
        "      \"\"\"\n",
        "      from onetwo import ot\n",
        "      answer = ot.run(self.react_agent(inputs=input))\n",
        "      return {\"answer\": answer}"
      ]
    },
    {
      "cell_type": "code",
      "execution_count": null,
      "id": "FCgbGXeoY9tQ",
      "metadata": {
        "id": "FCgbGXeoY9tQ"
      },
      "outputs": [],
      "source": []
    },
    {
      "cell_type": "markdown",
      "id": "kAJ0tSrjZOA5",
      "metadata": {
        "id": "kAJ0tSrjZOA5"
      },
      "source": [
        "**Create an instance of our OneTwoAgent**"
      ]
    },
    {
      "cell_type": "code",
      "execution_count": null,
      "id": "KYvZdLHtZKto",
      "metadata": {
        "id": "KYvZdLHtZKto"
      },
      "outputs": [],
      "source": [
        "agent = OneTwoAgent(\n",
        "   model='gemini-1.5-flash-001',  # Required.\n",
        "   tools=[exchange_rate_tool, finish_tool],  # Optional.\n",
        "   project='PROJECT_ID',\n",
        "   location='us-central1',\n",
        ")\n",
        "agent.set_up()"
      ]
    },
    {
      "cell_type": "markdown",
      "id": "qxC86oxZZriR",
      "metadata": {
        "id": "qxC86oxZZriR"
      },
      "source": [
        "**Ask question from Agent**"
      ]
    },
    {
      "cell_type": "code",
      "execution_count": 28,
      "id": "Jt5SoG5fZwXO",
      "metadata": {
        "executionInfo": {
          "elapsed": 449,
          "status": "ok",
          "timestamp": 1725309820143,
          "user": {
            "displayName": "",
            "userId": ""
          },
          "user_tz": 300
        },
        "id": "Jt5SoG5fZwXO"
      },
      "outputs": [],
      "source": [
        "response = agent.query(\n",
        "     input=\"What is the exchange rate from US dollars to Polish currency?\"\n",
        ")"
      ]
    },
    {
      "cell_type": "markdown",
      "id": "YXdZdWOAc_V1",
      "metadata": {
        "id": "YXdZdWOAc_V1"
      },
      "source": []
    },
    {
      "cell_type": "markdown",
      "id": "Zx9f7r20aGbR",
      "metadata": {
        "id": "Zx9f7r20aGbR"
      },
      "source": [
        "**Step 3: Deploying with Reasoning Engine**"
      ]
    },
    {
      "cell_type": "code",
      "execution_count": null,
      "id": "R275YWo0aMEF",
      "metadata": {
        "colab": {
          "base_uri": "https://localhost:8080/"
        },
        "executionInfo": {
          "elapsed": 291684,
          "status": "ok",
          "timestamp": 1725309057908,
          "user": {
            "displayName": "",
            "userId": ""
          },
          "user_tz": 300
        },
        "id": "R275YWo0aMEF",
        "outputId": "2a4de794-7a36-4baf-9577-d8cda4a2eb72"
      },
      "outputs": [
        {
          "name": "stderr",
          "output_type": "stream",
          "text": [
            "INFO:vertexai.reasoning_engines._reasoning_engines:Using bucket vertex_staging_demo\n",
            "INFO:vertexai.reasoning_engines._reasoning_engines:Writing to gs://vertex_staging_demo/reasoning_engine/reasoning_engine.pkl\n",
            "INFO:vertexai.reasoning_engines._reasoning_engines:Writing to gs://vertex_staging_demo/reasoning_engine/requirements.txt\n",
            "INFO:vertexai.reasoning_engines._reasoning_engines:Creating in-memory tarfile of extra_packages\n",
            "INFO:vertexai.reasoning_engines._reasoning_engines:Writing to gs://vertex_staging_demo/reasoning_engine/dependencies.tar.gz\n",
            "INFO:vertexai.reasoning_engines._reasoning_engines:Creating ReasoningEngine\n",
            "INFO:vertexai.reasoning_engines._reasoning_engines:Create ReasoningEngine backing LRO: projects/811614912259/locations/us-central1/reasoningEngines/5961657598917738496/operations/4811341009155784704\n",
            "INFO:vertexai.reasoning_engines._reasoning_engines:ReasoningEngine created. Resource name: projects/811614912259/locations/us-central1/reasoningEngines/5961657598917738496\n",
            "INFO:vertexai.reasoning_engines._reasoning_engines:To use this ReasoningEngine in another session:\n",
            "INFO:vertexai.reasoning_engines._reasoning_engines:reasoning_engine = vertexai.preview.reasoning_engines.ReasoningEngine('projects/811614912259/locations/us-central1/reasoningEngines/5961657598917738496')\n"
          ]
        }
      ],
      "source": [
        "import vertexai\n",
        "from vertexai.preview import reasoning_engines\n",
        "PROJECT_ID = \"PROJECT_ID\"  # @param {type:\"string\"}\n",
        "LOCATION = \"us-central1\"  # @param {type:\"string\"}\n",
        "STAGING_BUCKET = \"gs://vertex_staging_demo\"  # @param {type:\"string\"}\n",
        "vertexai.init(project=PROJECT_ID, location=LOCATION, staging_bucket=STAGING_BUCKET)\n",
        "remote_agent = reasoning_engines.ReasoningEngine.create(\n",
        "    OneTwoAgent(\n",
        "      model='gemini-1.5-flash-001',  # Required.\n",
        "      tools=[exchange_rate_tool, finish_tool],  # Optional.\n",
        "      project='genai-app-builder',\n",
        "      location='us-central1',\n",
        "   ),\n",
        "   requirements=[\n",
        "       \"google-cloud-aiplatform==1.55.0\",\n",
        "       \"pydantic\",\n",
        "       \"requests\",\n",
        "       \"blinker==1.4\",\n",
        "       \"sentencepiece\",\n",
        "       \"git+https://github.com/google-deepmind/onetwo\"\n",
        "   ],\n",
        "   display_name=\"OneTwoAgent\",\n",
        "   description=\"A conversational agent that can answer questions about the world.\",\n",
        ")"
      ]
    },
    {
      "cell_type": "markdown",
      "id": "DWlUUU8Tb0lw",
      "metadata": {
        "id": "DWlUUU8Tb0lw"
      },
      "source": [
        "**Querying the deployed agent**"
      ]
    },
    {
      "cell_type": "code",
      "execution_count": null,
      "id": "Tn91nGPHb2lI",
      "metadata": {
        "colab": {
          "base_uri": "https://localhost:8080/"
        },
        "executionInfo": {
          "elapsed": 6553,
          "status": "ok",
          "timestamp": 1725309097854,
          "user": {
            "displayName": "",
            "userId": ""
          },
          "user_tz": 300
        },
        "id": "Tn91nGPHb2lI",
        "outputId": "ec9dc7f0-c284-4a0e-bd2c-6e80267b4d54"
      },
      "outputs": [
        {
          "data": {
            "text/plain": [
              "{'answer': 'The exchange rate from USD to PLN today (2024-09-02) is 1 USD = 3.8649 PLN'}"
            ]
          },
          "execution_count": 24,
          "metadata": {},
          "output_type": "execute_result"
        }
      ],
      "source": [
        "remote_agent.query(\n",
        "input=\"What's the exchange rate from US dollars to Polish currency today?\"\n",
        ")"
      ]
    },
    {
      "cell_type": "code",
      "execution_count": null,
      "id": "sBzdliXgeMh4",
      "metadata": {
        "id": "sBzdliXgeMh4"
      },
      "outputs": [],
      "source": []
    }
  ],
  "metadata": {
    "colab": {
      "name": "onetworeason",
      "provenance": []
    },
    "kernelspec": {
      "display_name": "Python 3",
      "language": "python",
      "name": "python3"
    },
    "language_info": {
      "codemirror_mode": {
        "name": "ipython",
        "version": 3
      },
      "file_extension": ".py",
      "mimetype": "text/x-python",
      "name": "python",
      "nbconvert_exporter": "python",
      "pygments_lexer": "ipython3",
      "version": "3.10.10"
    }
  },
  "nbformat": 4,
  "nbformat_minor": 5
}
